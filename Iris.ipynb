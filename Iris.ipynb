{
 "cells": [
  {
   "cell_type": "code",
   "execution_count": 4,
   "id": "529bd1f5-c97b-4e45-a643-ced539725955",
   "metadata": {
    "tags": []
   },
   "outputs": [
    {
     "name": "stdout",
     "output_type": "stream",
     "text": [
      "\n",
      "✅ Model trained with accuracy: 1.00\n",
      "\n",
      "🌼 Enter iris flower measurements:\n"
     ]
    },
    {
     "name": "stdin",
     "output_type": "stream",
     "text": [
      "🔹 Sepal Length (cm):  50\n",
      "🔹 Sepal Width (cm):  60\n",
      "🔹 Petal Length (cm):  90\n",
      "🔹 Petal Width (cm):  40\n"
     ]
    },
    {
     "name": "stdout",
     "output_type": "stream",
     "text": [
      "\n",
      "🌸 Predicted Iris Species: **Virginica**\n"
     ]
    }
   ],
   "source": [
    "import numpy as np\n",
    "from sklearn.datasets import load_iris\n",
    "from sklearn.model_selection import train_test_split, GridSearchCV\n",
    "from sklearn.preprocessing import StandardScaler\n",
    "from sklearn.ensemble import RandomForestClassifier\n",
    "from sklearn.metrics import accuracy_score\n",
    "# Load the Iris dataset\n",
    "iris = load_iris()\n",
    "X = iris.data\n",
    "y = iris.target\n",
    "target_names = iris.target_names\n",
    "\n",
    "# Split the dataset\n",
    "X_train, X_test, y_train, y_test = train_test_split(X, y, test_size=0.2, random_state=42)\n",
    "\n",
    "# Feature scaling\n",
    "scaler = StandardScaler()\n",
    "X_train_scaled = scaler.fit_transform(X_train)\n",
    "X_test_scaled = scaler.transform(X_test)\n",
    "\n",
    "# Model and hyperparameters\n",
    "model = RandomForestClassifier()\n",
    "param_grid = {\n",
    "    \"n_estimators\": [50, 100],\n",
    "    \"max_depth\": [None, 5, 10]\n",
    "}\n",
    "\n",
    "# Hyperparameter tuning\n",
    "clf = GridSearchCV(model, param_grid, cv=5)\n",
    "clf.fit(X_train_scaled, y_train)\n",
    "best_model = clf.best_estimator_\n",
    "\n",
    "# Evaluate model\n",
    "accuracy = accuracy_score(y_test, best_model.predict(X_test_scaled))\n",
    "print(f\"\\n✅ Model trained with accuracy: {accuracy:.2f}\")\n",
    "\n",
    "# 🧠 Predict based on user input\n",
    "print(\"\\n🌼 Enter iris flower measurements:\")\n",
    "\n",
    "try:\n",
    "    sl = float(input(\"🔹 Sepal Length (cm): \"))\n",
    "    sw = float(input(\"🔹 Sepal Width (cm): \"))\n",
    "    pl = float(input(\"🔹 Petal Length (cm): \"))\n",
    "    pw = float(input(\"🔹 Petal Width (cm): \"))\n",
    "\n",
    "    user_input = np.array([[sl, sw, pl, pw]])\n",
    "    user_input_scaled = scaler.transform(user_input)\n",
    "\n",
    "    prediction = best_model.predict(user_input_scaled)[0]\n",
    "    predicted_species = target_names[prediction]\n",
    "\n",
    "    print(f\"\\n🌸 Predicted Iris Species: **{predicted_species.capitalize()}**\")\n",
    "except:\n",
    "    print(\"⚠️ Please enter valid numeric values!\")"
   ]
  }
 ],
 "metadata": {
  "kernelspec": {
   "display_name": "Python 3 (ipykernel)",
   "language": "python",
   "name": "python3"
  },
  "language_info": {
   "codemirror_mode": {
    "name": "ipython",
    "version": 3
   },
   "file_extension": ".py",
   "mimetype": "text/x-python",
   "name": "python",
   "nbconvert_exporter": "python",
   "pygments_lexer": "ipython3",
   "version": "3.11.5"
  }
 },
 "nbformat": 4,
 "nbformat_minor": 5
}
