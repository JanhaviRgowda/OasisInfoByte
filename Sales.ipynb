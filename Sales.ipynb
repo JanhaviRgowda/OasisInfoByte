{
 "cells": [
  {
   "cell_type": "code",
   "execution_count": 2,
   "id": "00331ea6-c2f5-4d65-a9b5-43fdd50603f6",
   "metadata": {
    "tags": []
   },
   "outputs": [
    {
     "name": "stdout",
     "output_type": "stream",
     "text": [
      "✅ Model Trained!\n",
      "📉 Mean Squared Error: 3.17\n",
      "📈 R² Score: 0.90\n",
      "\n",
      "📢 Enter advertising spends to predict sales:\n"
     ]
    },
    {
     "name": "stdin",
     "output_type": "stream",
     "text": [
      "📺 TV advertising spend:  60\n",
      "📻 Radio advertising spend:  70\n",
      "📰 Newspaper advertising spend:  90\n"
     ]
    },
    {
     "name": "stdout",
     "output_type": "stream",
     "text": [
      "\n",
      "🔮 Predicted Sales: 19.15 units\n"
     ]
    }
   ],
   "source": [
    "import pandas as pd\n",
    "from sklearn.model_selection import train_test_split\n",
    "from sklearn.linear_model import LinearRegression\n",
    "from sklearn.metrics import mean_squared_error, r2_score\n",
    "\n",
    "# Load the dataset\n",
    "df = pd.read_csv(\"Advertising.csv\")\n",
    "\n",
    "# Drop the unnecessary index column\n",
    "df = df.drop(columns=['Unnamed: 0'])\n",
    "\n",
    "# Define features and target\n",
    "X = df[['TV', 'Radio', 'Newspaper']]\n",
    "y = df['Sales']\n",
    "\n",
    "# Train-test split\n",
    "X_train, X_test, y_train, y_test = train_test_split(X, y, test_size=0.2, random_state=42)\n",
    "\n",
    "# Train the Linear Regression model\n",
    "model = LinearRegression()\n",
    "model.fit(X_train, y_train)\n",
    "\n",
    "# Evaluate the model\n",
    "y_pred = model.predict(X_test)\n",
    "mse = mean_squared_error(y_test, y_pred)\n",
    "r2 = r2_score(y_test, y_pred)\n",
    "\n",
    "print(\"✅ Model Trained!\")\n",
    "print(f\"📉 Mean Squared Error: {mse:.2f}\")\n",
    "print(f\"📈 R² Score: {r2:.2f}\")\n",
    "\n",
    "# Get user input for prediction\n",
    "print(\"\\n📢 Enter advertising spends to predict sales:\")\n",
    "try:\n",
    "    tv = float(input(\"📺 TV advertising spend: \"))\n",
    "    radio = float(input(\"📻 Radio advertising spend: \"))\n",
    "    newspaper = float(input(\"📰 Newspaper advertising spend: \"))\n",
    "\n",
    "    # Fix: Create DataFrame with correct column names\n",
    "    input_data = pd.DataFrame([[tv, radio, newspaper]], columns=['TV', 'Radio', 'Newspaper'])\n",
    "    predicted_sales = model.predict(input_data)\n",
    "\n",
    "    print(f\"\\n🔮 Predicted Sales: {predicted_sales[0]:.2f} units\")\n",
    "\n",
    "except ValueError:\n",
    "    print(\"❌ Please enter valid numerical values for all inputs.\")\n"
   ]
  }
 ],
 "metadata": {
  "kernelspec": {
   "display_name": "Python 3 (ipykernel)",
   "language": "python",
   "name": "python3"
  },
  "language_info": {
   "codemirror_mode": {
    "name": "ipython",
    "version": 3
   },
   "file_extension": ".py",
   "mimetype": "text/x-python",
   "name": "python",
   "nbconvert_exporter": "python",
   "pygments_lexer": "ipython3",
   "version": "3.11.5"
  }
 },
 "nbformat": 4,
 "nbformat_minor": 5
}
